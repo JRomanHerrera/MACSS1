{
 "cells": [
  {
   "cell_type": "markdown",
   "metadata": {},
   "source": [
    "# Construimos un algoritmo que arme una red según las especificaciones\n",
    "En este caso será para una red con una sola capa oculta y con la posibilidad de escoger la funcion de activación de la capa oculta así como el número de nodos que tendrá. Los nodos de las capas de entrada y salida estarán definidos por los propios datos X,Y"
   ]
  },
  {
   "cell_type": "code",
   "execution_count": 1,
   "metadata": {},
   "outputs": [],
   "source": [
    "import numpy as np\n",
    "import matplotlib.pyplot as plt\n",
    "import random\n",
    "from math import floor"
   ]
  },
  {
   "cell_type": "code",
   "execution_count": 2,
   "metadata": {},
   "outputs": [],
   "source": [
    "# RELU\n",
    "def relu(x):\n",
    "    return x * (x > 0)\n",
    "\n",
    "def drelu(x):\n",
    "    return 1. * (x > 0)\n",
    "\n",
    "#IDENTIDAD\n",
    "def iden(X):\n",
    "    return X\n",
    "\n",
    "def diden(X):\n",
    "    return 1\n",
    "\n",
    "#SIGMOIDE\n",
    "def sigmoid(X):\n",
    "    return 1/(1.0+np.exp(-X))\n",
    "\n",
    "def dsigmoid(X):\n",
    "    return sigmoid(X)*(1-sigmoid(X))\n",
    "\n",
    "# #### Miscellaneous functions\n",
    "# def sigmoid(z):\n",
    "#     \"\"\"The sigmoid function.\"\"\"\n",
    "#     return 1.0/(1.0+np.exp(-z))\n",
    "\n",
    "# def sigmoid_prime(z):\n",
    "#     \"\"\"Derivative of the sigmoid function.\"\"\"\n",
    "#     return sigmoid(z)*(1-sigmoid(z))\n",
    "\n",
    "#TANGENTE HIPORBÓLICA\n",
    "def tanh(X):\n",
    "    return np.tanh(X)\n",
    "def dtanh(X):\n",
    "    return 1-tanh(X)**2\n"
   ]
  },
  {
   "cell_type": "code",
   "execution_count": 3,
   "metadata": {},
   "outputs": [],
   "source": [
    "def split(X, Y, p_split): #El p_split debe estar dado entre 0 y 1\n",
    "    nparams = len(X)\n",
    "    randomize = np.random.permutation(nparams)\n",
    "    X = X[randomize]\n",
    "    Y = Y[randomize]\n",
    "    ntrain = int(p_split * nparams)\n",
    "    indx = [ntrain]\n",
    "    X_train, X_test = np.split(X, indx)\n",
    "    Y_train, Y_test = np.split(Y, indx)\n",
    "    \n",
    "    return X_train, Y_train, X_test, Y_test"
   ]
  },
  {
   "cell_type": "code",
   "execution_count": 4,
   "metadata": {},
   "outputs": [],
   "source": [
    "#función de coste:\n",
    "def error(vector):\n",
    "    m = len(vector)\n",
    "    mse = (1/(2*m))*np.linalg.norm(vector)**2\n",
    "    return mse"
   ]
  },
  {
   "cell_type": "code",
   "execution_count": 5,
   "metadata": {},
   "outputs": [],
   "source": [
    "def neuralnet(X, Y, nodos, p_split, learning_rate, epocas, fn_activation='relu'):\n",
    "    if fn_activation == 'relu':\n",
    "        activation = relu\n",
    "        dactivation = drelu\n",
    "    elif fn_activation == 'sigmoide':\n",
    "        activation = sigmoid\n",
    "        dactivation = dsigmoid\n",
    "    elif fn_activation == 'tanh':\n",
    "        activation = tanh\n",
    "        dactivation = dtanh\n",
    "    elif fn_activation == 'identidad':\n",
    "        activation = iden\n",
    "        dactivation = diden\n",
    "        \n",
    "    # Definimos la estructura de la red\n",
    "    n_entradas=len(X[0])\n",
    "    n_salidas=len(Y[0])\n",
    "    \n",
    "    #definimos los conjuntos de aprendizaje y validación \n",
    "    X_learn,Y_learn,X_val,Y_val = split(X,Y,p_split)\n",
    "    \n",
    "    #forward\n",
    "    W1 = np.random.randn(n_entradas,nodos)\n",
    "    W2 = np.random.randn(nodos, n_salidas)\n",
    "    b1 = np.random.randn(nodos)\n",
    "    b2 = np.random.randn(n_salidas)\n",
    "      \n",
    "    #épocas\n",
    "    errores=[]\n",
    "    validacion=[]\n",
    "    for i in range(epocas):\n",
    "        #Forward\n",
    "        z1=np.dot(X_learn,W1)+b1\n",
    "        a1=activation(z1)\n",
    "        z2=np.dot(a1,W2)+b2\n",
    "        a2=z2\n",
    "        \n",
    "        #backpropagation\n",
    "        delta2 = a2 - Y_learn\n",
    "        delta1 = (delta2).dot(W2.T)*dactivation(z1)\n",
    "        \n",
    "        errores.append(error(delta2)) #guardamos el error de cada época\n",
    "\n",
    "        W2 -= learning_rate * a1.T.dot(delta2)\n",
    "        b2 -= learning_rate * (delta2).sum(axis=0)\n",
    "\n",
    "        W1 -= learning_rate * X_learn.T.dot(delta1)\n",
    "        b1 -= learning_rate * (delta1).sum(axis=0)\n",
    "        \n",
    "        print(\"Época: %d, Error: %f\" %(i+1, error(delta2)))\n",
    "        \n",
    "        #Ahora validamos el modelo\n",
    "        z1 = np.dot(X_val, W1) + b1\n",
    "        a1 = activation(z1)\n",
    "        z2 = np.dot(a1,W2)+b2\n",
    "        a2 = z2\n",
    "        delta = a2-Y_val\n",
    "        validacion.append(error(delta))\n",
    "        \n",
    "    plt.plot(range(i+1),errores,color='darkcyan',label='Aprendizaje')\n",
    "    plt.plot(range(i+1),validacion,color='darkred',label='Validación')\n",
    "    plt.grid()\n",
    "    plt.legend()\n",
    "    return W1,b1,W2,b2\n",
    "        \n",
    "\n",
    "\n",
    "def evaluate(X, W1, b1, W2, b2, activation):\n",
    "    z1=np.dot(X,W1)+b1\n",
    "    a1=activation(z1)\n",
    "    z2=np.dot(a1,W2)+b2\n",
    "    a2=z2\n",
    "    return a2"
   ]
  },
  {
   "cell_type": "code",
   "execution_count": 6,
   "metadata": {},
   "outputs": [
    {
     "data": {
      "text/plain": [
       "0.8412594543939944"
      ]
     },
     "execution_count": 6,
     "metadata": {},
     "output_type": "execute_result"
    }
   ],
   "source": [
    "#Función a emular\n",
    "\n",
    "# X = 3.14*2*np.random.rand(1000,1)\n",
    "X = np.random.rand(1000,1)\n",
    "    \n",
    "Y = np.abs(np.sin(X))\n",
    "\n",
    "np.max(Y)"
   ]
  },
  {
   "cell_type": "code",
   "execution_count": 7,
   "metadata": {},
   "outputs": [
    {
     "name": "stdout",
     "output_type": "stream",
     "text": [
      "Época: 1, Error: 9.034058\n",
      "Época: 2, Error: 8.838870\n",
      "Época: 3, Error: 8.657757\n",
      "Época: 4, Error: 8.488281\n",
      "Época: 5, Error: 8.328387\n",
      "Época: 6, Error: 8.176450\n",
      "Época: 7, Error: 8.031276\n",
      "Época: 8, Error: 7.891951\n",
      "Época: 9, Error: 7.757631\n",
      "Época: 10, Error: 7.627711\n",
      "Época: 11, Error: 7.501664\n",
      "Época: 12, Error: 7.379087\n",
      "Época: 13, Error: 7.259554\n",
      "Época: 14, Error: 7.142725\n",
      "Época: 15, Error: 7.028379\n",
      "Época: 16, Error: 6.916360\n",
      "Época: 17, Error: 6.806463\n",
      "Época: 18, Error: 6.698635\n",
      "Época: 19, Error: 6.592801\n",
      "Época: 20, Error: 6.488976\n",
      "Época: 21, Error: 6.387024\n",
      "Época: 22, Error: 6.286904\n",
      "Época: 23, Error: 6.188503\n",
      "Época: 24, Error: 6.091743\n",
      "Época: 25, Error: 5.996669\n",
      "Época: 26, Error: 5.903150\n",
      "Época: 27, Error: 5.811159\n",
      "Época: 28, Error: 5.720668\n",
      "Época: 29, Error: 5.631553\n",
      "Época: 30, Error: 5.543828\n",
      "Época: 31, Error: 5.457557\n",
      "Época: 32, Error: 5.372720\n",
      "Época: 33, Error: 5.289321\n",
      "Época: 34, Error: 5.207288\n",
      "Época: 35, Error: 5.126648\n",
      "Época: 36, Error: 5.047335\n",
      "Época: 37, Error: 4.969278\n",
      "Época: 38, Error: 4.892458\n",
      "Época: 39, Error: 4.816865\n",
      "Época: 40, Error: 4.742447\n",
      "Época: 41, Error: 4.669196\n",
      "Época: 42, Error: 4.597099\n",
      "Época: 43, Error: 4.526154\n",
      "Época: 44, Error: 4.456298\n",
      "Época: 45, Error: 4.387549\n",
      "Época: 46, Error: 4.319888\n",
      "Época: 47, Error: 4.253251\n",
      "Época: 48, Error: 4.187668\n",
      "Época: 49, Error: 4.123130\n",
      "Época: 50, Error: 4.059652\n",
      "Época: 51, Error: 3.997178\n",
      "Época: 52, Error: 3.935707\n",
      "Época: 53, Error: 3.875211\n",
      "Época: 54, Error: 3.815682\n",
      "Época: 55, Error: 3.757109\n",
      "Época: 56, Error: 3.699475\n",
      "Época: 57, Error: 3.642719\n",
      "Época: 58, Error: 3.586859\n",
      "Época: 59, Error: 3.531902\n",
      "Época: 60, Error: 3.477807\n",
      "Época: 61, Error: 3.424552\n",
      "Época: 62, Error: 3.372159\n",
      "Época: 63, Error: 3.320619\n",
      "Época: 64, Error: 3.269914\n",
      "Época: 65, Error: 3.220039\n",
      "Época: 66, Error: 3.170941\n",
      "Época: 67, Error: 3.122613\n",
      "Época: 68, Error: 3.075049\n",
      "Época: 69, Error: 3.028269\n",
      "Época: 70, Error: 2.982229\n",
      "Época: 71, Error: 2.936930\n",
      "Época: 72, Error: 2.892331\n",
      "Época: 73, Error: 2.848449\n",
      "Época: 74, Error: 2.805284\n",
      "Época: 75, Error: 2.762805\n",
      "Época: 76, Error: 2.720993\n",
      "Época: 77, Error: 2.679836\n",
      "Época: 78, Error: 2.639320\n",
      "Época: 79, Error: 2.599477\n",
      "Época: 80, Error: 2.560268\n",
      "Época: 81, Error: 2.521699\n",
      "Época: 82, Error: 2.483727\n",
      "Época: 83, Error: 2.446366\n",
      "Época: 84, Error: 2.409608\n",
      "Época: 85, Error: 2.373439\n",
      "Época: 86, Error: 2.337834\n",
      "Época: 87, Error: 2.302763\n",
      "Época: 88, Error: 2.268243\n",
      "Época: 89, Error: 2.234276\n",
      "Época: 90, Error: 2.200860\n",
      "Época: 91, Error: 2.167982\n",
      "Época: 92, Error: 2.135648\n",
      "Época: 93, Error: 2.103828\n",
      "Época: 94, Error: 2.072511\n",
      "Época: 95, Error: 2.041693\n",
      "Época: 96, Error: 2.011340\n",
      "Época: 97, Error: 1.981456\n",
      "Época: 98, Error: 1.952037\n",
      "Época: 99, Error: 1.923094\n",
      "Época: 100, Error: 1.894605\n"
     ]
    },
    {
     "data": {
      "image/png": "[encoded data removed]",
      "text/plain": [
       "<Figure size 432x288 with 1 Axes>"
      ]
     },
     "metadata": {
      "needs_background": "light"
     },
     "output_type": "display_data"
    }
   ],
   "source": [
    "W1, b1, W2, b2 = neuralnet(X, Y, nodos=100, p_split=0.8, learning_rate=1e-6, \n",
    "                           epocas=100, fn_activation='relu')"
   ]
  },
  {
   "cell_type": "code",
   "execution_count": 8,
   "metadata": {},
   "outputs": [
    {
     "data": {
      "image/png": "[encoded data removed]",
      "text/plain": [
       "<Figure size 432x288 with 1 Axes>"
      ]
     },
     "metadata": {
      "needs_background": "light"
     },
     "output_type": "display_data"
    }
   ],
   "source": [
    "z = np.linspace(np.min(X), np.max(X), 60).reshape(-1, 1)\n",
    "\n",
    "plt.plot(z, evaluate(z, W1, b1, W2, b2, relu),label='Red neuronal')\n",
    "plt.plot(z, np.abs(np.sin(z)), label='$f(x)=sin(x)$')\n",
    "plt.legend()\n",
    "plt.grid()"
   ]
  },
  {
   "cell_type": "markdown",
   "metadata": {},
   "source": [
    "# Intentando otra red"
   ]
  },
  {
   "cell_type": "code",
   "execution_count": 50,
   "metadata": {},
   "outputs": [],
   "source": [
    "class Network(object):\n",
    "\n",
    "    def __init__(self, sizes, fn_activation='relu'):\n",
    "      \n",
    "        self.num_layers = len(sizes)\n",
    "        self.sizes = sizes\n",
    "        self.biases = [np.random.randn(y, 1) for y in sizes[1:]]\n",
    "        self.weights = [np.random.randn(y, x)\n",
    "                        for x, y in zip(sizes[:-1], sizes[1:])]\n",
    "        \n",
    "        if fn_activation == 'relu':\n",
    "            self.activation = relu\n",
    "            self.dactivation = drelu\n",
    "        elif fn_activation == 'sigmoide':\n",
    "            self.activation = sigmoid\n",
    "            self.dactivation = dsigmoid\n",
    "        elif fn_activation == 'tanh':\n",
    "            self.activation = tanh\n",
    "            self.dactivation = dtanh\n",
    "        elif fn_activation == 'identidad':\n",
    "            self.activation = iden\n",
    "            self.dactivation = diden\n",
    "\n",
    "    def feedforward(self, a):\n",
    "        \"\"\"Return the output of the network if ``a`` is input.\"\"\"\n",
    "        for b, w in zip(self.biases, self.weights):\n",
    "# #             a = sigmoid(np.dot(w, a)+b)\n",
    "#               a = relu(np.dot(w, a)+b)\n",
    "                a = self.activation(np.dot(w, a)+b)\n",
    "        return a\n",
    "\n",
    "    def SGD(self, training_data, epochs, mini_batch_size, eta, test_data=None):\n",
    "        if test_data is not None: \n",
    "            n_test = len(test_data)\n",
    "        n = len(training_data)\n",
    "        for j in range(epochs):\n",
    "            random.shuffle(training_data)\n",
    "            mini_batches = [\n",
    "                training_data[k:k+mini_batch_size]\n",
    "                for k in range(0, n, mini_batch_size)]\n",
    "            for mini_batch in mini_batches:\n",
    "                self.update_mini_batch(mini_batch, eta)\n",
    "            if test_data is not None:\n",
    "                print(\"Epoch {0}: {1} / {2}\".format(\n",
    "                    j, self.evaluate(test_data), n_test))\n",
    "            else:\n",
    "                print(\"Epoch {0} complete\".format(j))\n",
    "\n",
    "    def update_mini_batch(self, mini_batch, eta):\n",
    "        \"\"\"Update the network's weights and biases by applying\n",
    "        gradient descent using backpropagation to a single mini batch.\n",
    "        The ``mini_batch`` is a list of tuples ``(x, y)``, and ``eta``\n",
    "        is the learning rate.\"\"\"\n",
    "        nabla_b = [np.zeros(b.shape) for b in self.biases]\n",
    "        nabla_w = [np.zeros(w.shape) for w in self.weights]\n",
    "        for x, y in mini_batch:\n",
    "            delta_nabla_b, delta_nabla_w = self.backprop(x, y)\n",
    "            nabla_b = [nb+dnb for nb, dnb in zip(nabla_b, delta_nabla_b)]\n",
    "            nabla_w = [nw+dnw for nw, dnw in zip(nabla_w, delta_nabla_w)]\n",
    "        self.weights = [w-(eta/len(mini_batch))*nw\n",
    "                        for w, nw in zip(self.weights, nabla_w)]\n",
    "        self.biases = [b-(eta/len(mini_batch))*nb\n",
    "                       for b, nb in zip(self.biases, nabla_b)]\n",
    "\n",
    "    def backprop(self, x, y):\n",
    "        \"\"\"Return a tuple ``(nabla_b, nabla_w)`` representing the\n",
    "        gradient for the cost function C_x.  ``nabla_b`` and\n",
    "        ``nabla_w`` are layer-by-layer lists of numpy arrays, similar\n",
    "        to ``self.biases`` and ``self.weights``.\"\"\"\n",
    "        nabla_b = [np.zeros(b.shape) for b in self.biases]\n",
    "        nabla_w = [np.zeros(w.shape) for w in self.weights]\n",
    "        # feedforward\n",
    "        activation = x\n",
    "        activations = [x] # list to store all the activations, layer by layer\n",
    "        zs = [] # list to store all the z vectors, layer by layer\n",
    "        for b, w in zip(self.biases, self.weights):\n",
    "            z = np.dot(w, activation)+b\n",
    "            zs.append(z)\n",
    "# #             activation = sigmoid(z)\n",
    "            activation = self.activation(z)\n",
    "            activations.append(activation)\n",
    "        # backward pass\n",
    "        delta = self.cost_derivative(activations[-1], y) * self.dactivation(zs[-1])\n",
    "        #             sigmoid_prime(zs[-1])\n",
    "\n",
    "        nabla_b[-1] = delta\n",
    "        nabla_w[-1] = np.dot(delta, activations[-2].transpose())\n",
    "        # Note that the variable l in the loop below is used a little\n",
    "        # differently to the notation in Chapter 2 of the book.  Here,\n",
    "        # l = 1 means the last layer of neurons, l = 2 is the\n",
    "        # second-last layer, and so on.  It's a renumbering of the\n",
    "        # scheme in the book, used here to take advantage of the fact\n",
    "        # that Python can use negative indices in lists.\n",
    "        for l in range(2, self.num_layers):\n",
    "            z = zs[-l]\n",
    "#             sp = sigmoid_prime(z)\n",
    "            sp = self.dactivation(z)\n",
    "            delta = np.dot(self.weights[-l+1].transpose(), delta) * sp\n",
    "            nabla_b[-l] = delta\n",
    "            nabla_w[-l] = np.dot(delta, activations[-l-1].transpose())\n",
    "        return (nabla_b, nabla_w)\n",
    "\n",
    "    def evaluate(self, test_data):\n",
    "        \"\"\"Return the number of test inputs for which the neural\n",
    "        network outputs the correct result. Note that the neural\n",
    "        network's output is assumed to be the index of whichever\n",
    "        neuron in the final layer has the highest activation.\"\"\"\n",
    "        test_results = [(np.argmax(self.feedforward(x)), y)\n",
    "                        for (x, y) in test_data]\n",
    "        return sum(int(x == y) for (x, y) in test_results)\n",
    "\n",
    "    def cost_derivative(self, output_activations, y):\n",
    "        \"\"\"Return the vector of partial derivatives \\partial C_x /\n",
    "        \\partial a for the output activations.\"\"\"\n",
    "        return (output_activations-y)\n",
    "\n"
   ]
  },
  {
   "cell_type": "code",
   "execution_count": 51,
   "metadata": {},
   "outputs": [
    {
     "data": {
      "text/plain": [
       "numpy.ndarray"
      ]
     },
     "execution_count": 51,
     "metadata": {},
     "output_type": "execute_result"
    }
   ],
   "source": [
    "net = Network([1,100,100, 1], fn_activation='sigmoide')\n",
    "X_train, Y_train, X_test, Y_test = split(X, Y, 0.8)\n",
    "train_data = np.concatenate((X_train,Y_train), axis=1)\n",
    "test_data = np.concatenate((X_test,Y_test), axis=1)\n",
    "type(test_data)"
   ]
  },
  {
   "cell_type": "code",
   "execution_count": 52,
   "metadata": {},
   "outputs": [
    {
     "name": "stdout",
     "output_type": "stream",
     "text": [
      "Epoch 0 complete\n",
      "Epoch 1 complete\n",
      "Epoch 2 complete\n",
      "Epoch 3 complete\n",
      "Epoch 4 complete\n",
      "Epoch 5 complete\n",
      "Epoch 6 complete\n",
      "Epoch 7 complete\n",
      "Epoch 8 complete\n",
      "Epoch 9 complete\n",
      "Epoch 10 complete\n",
      "Epoch 11 complete\n",
      "Epoch 12 complete\n",
      "Epoch 13 complete\n",
      "Epoch 14 complete\n",
      "Epoch 15 complete\n",
      "Epoch 16 complete\n",
      "Epoch 17 complete\n",
      "Epoch 18 complete\n",
      "Epoch 19 complete\n",
      "Epoch 20 complete\n",
      "Epoch 21 complete\n",
      "Epoch 22 complete\n",
      "Epoch 23 complete\n",
      "Epoch 24 complete\n",
      "Epoch 25 complete\n",
      "Epoch 26 complete\n",
      "Epoch 27 complete\n",
      "Epoch 28 complete\n",
      "Epoch 29 complete\n",
      "Epoch 30 complete\n",
      "Epoch 31 complete\n",
      "Epoch 32 complete\n",
      "Epoch 33 complete\n",
      "Epoch 34 complete\n",
      "Epoch 35 complete\n",
      "Epoch 36 complete\n",
      "Epoch 37 complete\n",
      "Epoch 38 complete\n",
      "Epoch 39 complete\n",
      "Epoch 40 complete\n",
      "Epoch 41 complete\n",
      "Epoch 42 complete\n",
      "Epoch 43 complete\n",
      "Epoch 44 complete\n",
      "Epoch 45 complete\n",
      "Epoch 46 complete\n",
      "Epoch 47 complete\n",
      "Epoch 48 complete\n",
      "Epoch 49 complete\n"
     ]
    }
   ],
   "source": [
    "net.SGD(train_data, epochs=50, mini_batch_size=10, eta=2)"
   ]
  },
  {
   "cell_type": "code",
   "execution_count": 53,
   "metadata": {},
   "outputs": [
    {
     "data": {
      "text/plain": [
       "(1, 100)"
      ]
     },
     "execution_count": 53,
     "metadata": {},
     "output_type": "execute_result"
    }
   ],
   "source": [
    "z = np.linspace(0, 10, 100).reshape(1,100)\n",
    "pred = net.feedforward(z)\n",
    "np.shape(pred)"
   ]
  },
  {
   "cell_type": "code",
   "execution_count": 54,
   "metadata": {},
   "outputs": [
    {
     "data": {
      "image/png": "[encoded data removed]",
      "text/plain": [
       "<Figure size 432x288 with 1 Axes>"
      ]
     },
     "metadata": {
      "needs_background": "light"
     },
     "output_type": "display_data"
    }
   ],
   "source": [
    "plt.plot(z.reshape(100,1), pred.reshape(100,1), label='Red neuronal')\n",
    "plt.plot(z.reshape(100,1), np.abs(np.sin(z.reshape(100,1))), label='$f(x)=sin(x)$')\n",
    "plt.legend()\n",
    "plt.grid()"
   ]
  },
  {
   "cell_type": "code",
   "execution_count": null,
   "metadata": {},
   "outputs": [],
   "source": []
  },
  {
   "cell_type": "code",
   "execution_count": null,
   "metadata": {},
   "outputs": [],
   "source": []
  },
  {
   "cell_type": "code",
   "execution_count": null,
   "metadata": {},
   "outputs": [],
   "source": []
  }
 ],
 "metadata": {
  "kernelspec": {
   "display_name": "Python 3",
   "language": "python",
   "name": "python3"
  },
  "language_info": {
   "codemirror_mode": {
    "name": "ipython",
    "version": 3
   },
   "file_extension": ".py",
   "mimetype": "text/x-python",
   "name": "python",
   "nbconvert_exporter": "python",
   "pygments_lexer": "ipython3",
   "version": "3.8.5"
  }
 },
 "nbformat": 4,
 "nbformat_minor": 4
}
