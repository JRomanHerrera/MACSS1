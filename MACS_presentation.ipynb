{
 "cells": [
  {
   "cell_type": "markdown",
   "metadata": {},
   "source": [
    "# 1943. Modelo lógico para una neurona de McCulloch-Pitts \n",
    "\n",
    "Referencias:\n",
    "- McCulloch, W. S., & Pitts, W. (1943). A logical calculus of the ideas immanent in nervous activity. The bulletin of mathematical biophysics, 5(4), 115-133. \n",
    "\n",
    "- https://jontysinai.github.io/jekyll/update/2017/09/24/the-mcp-neuron.html\n",
    "\n",
    "\n",
    "\n",
    "![](https://images.computerhistory.org/timeline/timeline_computers_1939.hewlettpackard.jpg)\n",
    "\n",
    "Compuertas lógicas: \n",
    "\n",
    "![](https://instrumentationtools.com/wp-content/uploads/2017/07/instrumentationtools.com_digital-logic-gates-truthtables.png)"
   ]
  },
  {
   "cell_type": "code",
   "execution_count": null,
   "metadata": {},
   "outputs": [],
   "source": []
  }
 ],
 "metadata": {
  "kernelspec": {
   "display_name": "Python 3",
   "language": "python",
   "name": "python3"
  },
  "language_info": {
   "codemirror_mode": {
    "name": "ipython",
    "version": 3
   },
   "file_extension": ".py",
   "mimetype": "text/x-python",
   "name": "python",
   "nbconvert_exporter": "python",
   "pygments_lexer": "ipython3",
   "version": "3.8.5"
  }
 },
 "nbformat": 4,
 "nbformat_minor": 4
}
