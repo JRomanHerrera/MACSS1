{
 "cells": [
  {
   "cell_type": "markdown",
   "metadata": {},
   "source": [
    "# Construimos un algoritmo que arme una red según las especificaciones\n",
    "En este caso será para una red con una sola capa oculta y con la posibilidad de escoger la funcion de activación de la capa oculta así como el número de nodos que tendrá. Los nodos de las capas de entrada y salida estarán definidos por los propios datos X,Y"
   ]
  },
  {
   "cell_type": "code",
   "execution_count": 2,
   "metadata": {},
   "outputs": [],
   "source": [
    "import numpy as np\n",
    "import matplotlib.pyplot as plt"
   ]
  },
  {
   "cell_type": "code",
   "execution_count": 55,
   "metadata": {},
   "outputs": [],
   "source": [
    "class NeuralNet:\n",
    "    def __init__(self, X, Y, nodos, p_split, learning_rate, epocas, fn_activation='relu'):\n",
    "        self.X = X\n",
    "        self.Y = Y\n",
    "        self.nodos = nodos\n",
    "        self.p_split = p_split\n",
    "        self.learning_rate = learning_rate\n",
    "        self.epocas = epocas\n",
    "        \n",
    "        if fn_activation == 'relu':\n",
    "            self.activation = self.relu\n",
    "            self.dactivation = self.drelu\n",
    "        elif fn_activation == 'sigmoide':\n",
    "            self.activation = self.sigmoid\n",
    "            self.dactivation = self.dsigmoid\n",
    "        elif fn_activation == 'tanh':\n",
    "            self.activation = self.tanh\n",
    "            self.dactivation = self.dtanh\n",
    "        elif fn_activation == 'identidad':\n",
    "            self.activation = self.iden\n",
    "            self.dactivation = self.diden  \n",
    "\n",
    "    def relu(self, x):\n",
    "        return x * (x > 0)\n",
    "\n",
    "    def drelu(self, x):\n",
    "        return 1. * (x > 0)\n",
    "\n",
    "    #IDENTIDAD\n",
    "    def iden(self, X):\n",
    "        return X\n",
    "\n",
    "    def diden(self, X):\n",
    "        return 1\n",
    "\n",
    "    #SIGMOIDE\n",
    "    def sigmoid(self, X):\n",
    "        return 1/(1.0+np.exp(-X))\n",
    "\n",
    "    def dsigmoid(self, X):\n",
    "        return sigmoid(X)*(1-sigmoid(X))\n",
    "\n",
    "    def tanh(self, X):\n",
    "        return np.tanh(X)\n",
    "    \n",
    "    def dtanh(self, X):\n",
    "        return 1-tanh(X)**2\n",
    "    # Definimos la estructura de la red\n",
    "    \n",
    "    def error(self, vector):\n",
    "        m = len(vector)\n",
    "        mse = (1/(2*m))*np.linalg.norm(vector)**2\n",
    "        return mse\n",
    "    \n",
    "    def split(self, X, Y, p_split): #El p_split debe estar dado entre 0 y 1\n",
    "        nparams = len(X)\n",
    "        randomize = np.random.permutation(nparams)\n",
    "        X = X[randomize]\n",
    "        Y = Y[randomize]\n",
    "        ntrain = int(p_split * nparams)\n",
    "        indx = [ntrain]\n",
    "        X_train, X_test = np.split(X, indx)\n",
    "        Y_train, Y_test = np.split(Y, indx)\n",
    "    \n",
    "        return X_train, Y_train, X_test, Y_test\n",
    "    \n",
    "    def entrenar(self):\n",
    "        n_entradas=len(self.X[0])\n",
    "        n_salidas=len(self.Y[0])\n",
    "\n",
    "        #definimos los conjuntos de aprendizaje y validación \n",
    "        X_learn,Y_learn,X_val,Y_val = self.split(self.X, self.Y, self.p_split)\n",
    "\n",
    "        #forward\n",
    "        W1 = np.random.randn(n_entradas,self.nodos)\n",
    "        W2 = np.random.randn(self.nodos, n_salidas)\n",
    "        b1 = np.random.randn(self.nodos)\n",
    "        b2 = np.random.randn(n_salidas)\n",
    "\n",
    "        #épocas\n",
    "        self.errores=[]\n",
    "        self.validacion=[]\n",
    "        for i in range(self.epocas):\n",
    "            #Forward\n",
    "            z1=np.dot(X_learn,W1)+b1\n",
    "            a1=self.activation(z1)\n",
    "            z2=np.dot(a1,W2)+b2\n",
    "            a2=z2\n",
    "\n",
    "            #backpropagation\n",
    "            delta2 = a2 - Y_learn\n",
    "            delta1 = (delta2).dot(W2.T)*self.dactivation(z1)\n",
    "\n",
    "            self.errores.append(self.error(delta2)) #guardamos el error de cada época\n",
    "\n",
    "            W2 -= self.learning_rate * a1.T.dot(delta2)\n",
    "            b2 -= self.learning_rate * (delta2).sum(axis=0)\n",
    "\n",
    "            W1 -= self.learning_rate * X_learn.T.dot(delta1)\n",
    "            b1 -= self.learning_rate * (delta1).sum(axis=0)\n",
    "\n",
    "            print(\"Época: %d, Error: %f\" %(i+1, self.error(delta2)))\n",
    "\n",
    "            #Ahora validamos el modelo\n",
    "            z1 = np.dot(X_val, W1) + b1\n",
    "            a1 = self.activation(z1)\n",
    "            z2 = np.dot(a1,W2)+b2\n",
    "            a2 = z2\n",
    "            delta = a2-Y_val\n",
    "            self.validacion.append(self.error(delta))\n",
    "        \n",
    "        self.W1 = W1\n",
    "        self.W2 = W2\n",
    "        self.b1 = b1\n",
    "        self.b2 = b2   \n",
    "\n",
    "    def plot(self):\n",
    "#         for i in range(self.epocas):\n",
    "        plt.plot(range(self.epocas),self.errores,color='darkcyan',label='Aprendizaje')\n",
    "        plt.plot(range(self.epocas),self.validacion,color='darkred',label='Validación')\n",
    "        plt.grid()\n",
    "        plt.legend()\n",
    "     \n",
    "\n",
    "    def evaluar(self, x):\n",
    "        z1=np.dot(x,self.W1)+self.b1\n",
    "        a1=self.activation(z1)\n",
    "        z2=np.dot(a1,self.W2)+self.b2\n",
    "        a2=z2\n",
    "        return a2"
   ]
  },
  {
   "cell_type": "code",
   "execution_count": 56,
   "metadata": {},
   "outputs": [
    {
     "data": {
      "text/plain": [
       "0.8398686095945809"
      ]
     },
     "execution_count": 56,
     "metadata": {},
     "output_type": "execute_result"
    }
   ],
   "source": [
    "#Función a emular\n",
    "\n",
    "# X = 3.14*2*np.random.rand(1000,1)\n",
    "X = np.random.rand(1000,1)\n",
    "    \n",
    "Y = np.abs(np.sin(X))\n",
    "\n",
    "np.max(Y)"
   ]
  },
  {
   "cell_type": "code",
   "execution_count": 57,
   "metadata": {},
   "outputs": [
    {
     "name": "stdout",
     "output_type": "stream",
     "text": [
      "Época: 1, Error: 100.413016\n",
      "Época: 2, Error: 80.060211\n",
      "Época: 3, Error: 63.944090\n",
      "Época: 4, Error: 51.153330\n",
      "Época: 5, Error: 40.972032\n",
      "Época: 6, Error: 32.849643\n",
      "Época: 7, Error: 26.361783\n",
      "Época: 8, Error: 21.172386\n",
      "Época: 9, Error: 17.017092\n",
      "Época: 10, Error: 13.687590\n",
      "Época: 11, Error: 11.019845\n",
      "Época: 12, Error: 8.880366\n",
      "Época: 13, Error: 7.163502\n",
      "Época: 14, Error: 5.785047\n",
      "Época: 15, Error: 4.676644\n",
      "Época: 16, Error: 3.785052\n",
      "Época: 17, Error: 3.067341\n",
      "Época: 18, Error: 2.489452\n",
      "Época: 19, Error: 2.023977\n",
      "Época: 20, Error: 1.648781\n",
      "Época: 21, Error: 1.346114\n",
      "Época: 22, Error: 1.101891\n",
      "Época: 23, Error: 0.904703\n",
      "Época: 24, Error: 0.745411\n",
      "Época: 25, Error: 0.616680\n",
      "Época: 26, Error: 0.512593\n",
      "Época: 27, Error: 0.428394\n",
      "Época: 28, Error: 0.360241\n",
      "Época: 29, Error: 0.305036\n",
      "Época: 30, Error: 0.260282\n",
      "Época: 31, Error: 0.223972\n",
      "Época: 32, Error: 0.194479\n",
      "Época: 33, Error: 0.170495\n",
      "Época: 34, Error: 0.150963\n",
      "Época: 35, Error: 0.135026\n",
      "Época: 36, Error: 0.121995\n",
      "Época: 37, Error: 0.111316\n",
      "Época: 38, Error: 0.102536\n",
      "Época: 39, Error: 0.095293\n",
      "Época: 40, Error: 0.089295\n",
      "Época: 41, Error: 0.084305\n",
      "Época: 42, Error: 0.080131\n",
      "Época: 43, Error: 0.076618\n",
      "Época: 44, Error: 0.073642\n",
      "Época: 45, Error: 0.071101\n",
      "Época: 46, Error: 0.068913\n",
      "Época: 47, Error: 0.067013\n",
      "Época: 48, Error: 0.065347\n",
      "Época: 49, Error: 0.063872\n",
      "Época: 50, Error: 0.062553\n",
      "Época: 51, Error: 0.061361\n",
      "Época: 52, Error: 0.060273\n",
      "Época: 53, Error: 0.059271\n",
      "Época: 54, Error: 0.058341\n",
      "Época: 55, Error: 0.057469\n",
      "Época: 56, Error: 0.056646\n",
      "Época: 57, Error: 0.055864\n",
      "Época: 58, Error: 0.055117\n",
      "Época: 59, Error: 0.054400\n",
      "Época: 60, Error: 0.053707\n",
      "Época: 61, Error: 0.053037\n",
      "Época: 62, Error: 0.052385\n",
      "Época: 63, Error: 0.051749\n",
      "Época: 64, Error: 0.051129\n",
      "Época: 65, Error: 0.050522\n",
      "Época: 66, Error: 0.049928\n",
      "Época: 67, Error: 0.049344\n",
      "Época: 68, Error: 0.048771\n",
      "Época: 69, Error: 0.048206\n",
      "Época: 70, Error: 0.047651\n",
      "Época: 71, Error: 0.047105\n",
      "Época: 72, Error: 0.046566\n",
      "Época: 73, Error: 0.046034\n",
      "Época: 74, Error: 0.045511\n",
      "Época: 75, Error: 0.044995\n",
      "Época: 76, Error: 0.044486\n",
      "Época: 77, Error: 0.043983\n",
      "Época: 78, Error: 0.043488\n",
      "Época: 79, Error: 0.042999\n",
      "Época: 80, Error: 0.042516\n",
      "Época: 81, Error: 0.042040\n",
      "Época: 82, Error: 0.041570\n",
      "Época: 83, Error: 0.041105\n",
      "Época: 84, Error: 0.040647\n",
      "Época: 85, Error: 0.040195\n",
      "Época: 86, Error: 0.039748\n",
      "Época: 87, Error: 0.039307\n",
      "Época: 88, Error: 0.038872\n",
      "Época: 89, Error: 0.038441\n",
      "Época: 90, Error: 0.038016\n",
      "Época: 91, Error: 0.037597\n",
      "Época: 92, Error: 0.037183\n",
      "Época: 93, Error: 0.036773\n",
      "Época: 94, Error: 0.036369\n",
      "Época: 95, Error: 0.035971\n",
      "Época: 96, Error: 0.035577\n",
      "Época: 97, Error: 0.035189\n",
      "Época: 98, Error: 0.034805\n",
      "Época: 99, Error: 0.034425\n",
      "Época: 100, Error: 0.034051\n"
     ]
    }
   ],
   "source": [
    "neuralnet = NeuralNet(X, Y, nodos=100, p_split=0.8, learning_rate=1e-6, \n",
    "                           epocas=100, fn_activation='relu')\n",
    "neuralnet.entrenar()"
   ]
  },
  {
   "cell_type": "code",
   "execution_count": 58,
   "metadata": {},
   "outputs": [
    {
     "data": {
      "image/png": "[encoded data removed]",
      "text/plain": [
       "<Figure size 432x288 with 1 Axes>"
      ]
     },
     "metadata": {
      "needs_background": "light"
     },
     "output_type": "display_data"
    }
   ],
   "source": [
    "neuralnet.plot()"
   ]
  },
  {
   "cell_type": "code",
   "execution_count": 59,
   "metadata": {},
   "outputs": [
    {
     "data": {
      "image/png": "[encoded data removed]",
      "text/plain": [
       "<Figure size 432x288 with 1 Axes>"
      ]
     },
     "metadata": {
      "needs_background": "light"
     },
     "output_type": "display_data"
    }
   ],
   "source": [
    "z = np.linspace(np.min(X), np.max(X), 60).reshape(-1, 1)\n",
    "\n",
    "plt.plot(z, neuralnet.evaluar(z),label='Red neuronal')\n",
    "plt.plot(z, np.abs(np.sin(z)), label='$f(x)=sin(x)$')\n",
    "plt.legend()\n",
    "plt.grid()"
   ]
  },
  {
   "cell_type": "code",
   "execution_count": null,
   "metadata": {},
   "outputs": [],
   "source": []
  },
  {
   "cell_type": "code",
   "execution_count": null,
   "metadata": {},
   "outputs": [],
   "source": []
  },
  {
   "cell_type": "code",
   "execution_count": null,
   "metadata": {},
   "outputs": [],
   "source": []
  }
 ],
 "metadata": {
  "kernelspec": {
   "display_name": "Python 3",
   "language": "python",
   "name": "python3"
  },
  "language_info": {
   "codemirror_mode": {
    "name": "ipython",
    "version": 3
   },
   "file_extension": ".py",
   "mimetype": "text/x-python",
   "name": "python",
   "nbconvert_exporter": "python",
   "pygments_lexer": "ipython3",
   "version": "3.8.5"
  }
 },
 "nbformat": 4,
 "nbformat_minor": 4
}
