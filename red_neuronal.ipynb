{
 "cells": [
  {
   "cell_type": "markdown",
   "metadata": {},
   "source": [
    "# Construimos un algoritmo que arme una red según las especificaciones\n",
    "En este caso será para una red con una sola capa oculta y con la posibilidad de escoger la funcion de activación de la capa oculta así como el número de nodos que tendrá. Los nodos de las capas de entrada y salida estarán definidos por los propios datos X,Y"
   ]
  },
  {
   "cell_type": "code",
   "execution_count": 2,
   "metadata": {},
   "outputs": [],
   "source": [
    "import numpy as np\n",
    "import matplotlib.pyplot as plt"
   ]
  },
  {
   "cell_type": "code",
   "execution_count": 7,
   "metadata": {},
   "outputs": [],
   "source": [
    "class NeuralNet:\n",
    "    def __init__(self, X, Y, nodos, p_split, learning_rate, epocas, fn_activation='relu'):\n",
    "        self.X = X\n",
    "        self.Y = Y\n",
    "        self.nodos = nodos\n",
    "        self.p_split = p_split\n",
    "        self.learning_rate = learning_rate\n",
    "        self.epocas = epocas\n",
    "        \n",
    "        if fn_activation == 'relu':\n",
    "            self.activation = self.relu\n",
    "            self.dactivation = self.drelu\n",
    "        elif fn_activation == 'sigmoide':\n",
    "            self.activation = self.sigmoid\n",
    "            self.dactivation = self.dsigmoid\n",
    "        elif fn_activation == 'tanh':\n",
    "            self.activation = self.tanh\n",
    "            self.dactivation = self.dtanh\n",
    "        elif fn_activation == 'identidad':\n",
    "            self.activation = self.iden\n",
    "            self.dactivation = self.diden  \n",
    "\n",
    "    def drelu(self, x):\n",
    "        return 1. * (x > 0)\n",
    "\n",
    "    #IDENTIDAD\n",
    "    def iden(self, X):\n",
    "        return X\n",
    "\n",
    "    def diden(self, X):\n",
    "        return 1\n",
    "\n",
    "    #SIGMOIDE\n",
    "    def sigmoid(self, X):\n",
    "        return 1/(1.0+np.exp(-X))\n",
    "\n",
    "    def dsigmoid(self, X):\n",
    "        return sigmoid(X)*(1-sigmoid(X))\n",
    "\n",
    "    def tanh(self, X):\n",
    "        return np.tanh(X)\n",
    "    \n",
    "    def dtanh(self, X):\n",
    "        return 1-tanh(X)**2\n",
    "    # Definimos la estructura de la red\n",
    "    \n",
    "    def error(self, vector):\n",
    "        m = len(vector)\n",
    "        mse = (1/(2*m))*np.linalg.norm(vector)**2\n",
    "        return mse\n",
    "    \n",
    "    def split(self, X, Y, p_split): #El p_split debe estar dado entre 0 y 1\n",
    "        nparams = len(X)\n",
    "        randomize = np.random.permutation(nparams)\n",
    "        X = X[randomize]\n",
    "        Y = Y[randomize]\n",
    "        ntrain = int(p_split * nparams)\n",
    "        indx = [ntrain]\n",
    "        X_train, X_test = np.split(X, indx)\n",
    "        Y_train, Y_test = np.split(Y, indx)\n",
    "    \n",
    "        return X_train, Y_train, X_test, Y_test\n",
    "    \n",
    "    def entrenar(self):\n",
    "        n_entradas=len(self.X[0])\n",
    "        n_salidas=len(self.Y[0])\n",
    "\n",
    "        #definimos los conjuntos de aprendizaje y validación \n",
    "        X_learn,Y_learn,X_val,Y_val = self.split(self.X, self.Y, self.p_split)\n",
    "\n",
    "        #forward\n",
    "        W1 = np.random.randn(n_entradas,nodos)\n",
    "        W2 = np.random.randn(nodos, n_salidas)\n",
    "        b1 = np.random.randn(nodos)\n",
    "        b2 = np.random.randn(n_salidas)\n",
    "\n",
    "        #épocas\n",
    "        errores=[]\n",
    "        validacion=[]\n",
    "        for i in range(epocas):\n",
    "            #Forward\n",
    "            z1=np.dot(X_learn,W1)+b1\n",
    "            a1=activation(z1)\n",
    "            z2=np.dot(a1,W2)+b2\n",
    "            a2=z2\n",
    "\n",
    "            #backpropagation\n",
    "            delta2 = a2 - Y_learn\n",
    "            delta1 = (delta2).dot(W2.T)*dactivation(z1)\n",
    "\n",
    "            errores.append(self.error(delta2)) #guardamos el error de cada época\n",
    "\n",
    "            W2 -= learning_rate * a1.T.dot(delta2)\n",
    "            b2 -= learning_rate * (delta2).sum(axis=0)\n",
    "\n",
    "            W1 -= learning_rate * X_learn.T.dot(delta1)\n",
    "            b1 -= learning_rate * (delta1).sum(axis=0)\n",
    "\n",
    "            print(\"Época: %d, Error: %f\" %(i+1, error(delta2)))\n",
    "\n",
    "            #Ahora validamos el modelo\n",
    "            z1 = np.dot(X_val, W1) + b1\n",
    "            a1 = activation(z1)\n",
    "            z2 = np.dot(a1,W2)+b2\n",
    "            a2 = z2\n",
    "            delta = a2-Y_val\n",
    "            validacion.append(error(delta))\n",
    "\n",
    "        plt.plot(range(i+1),errores,color='darkcyan',label='Aprendizaje')\n",
    "        plt.plot(range(i+1),validacion,color='darkred',label='Validación')\n",
    "        plt.grid()\n",
    "        plt.legend()\n",
    "        self.W1 = W1\n",
    "        self.W2 = W2\n",
    "        self.b1 = b1\n",
    "        self.b2 = b2        \n",
    "\n",
    "\n",
    "    def evaluate(self):\n",
    "        z1=np.dot(self.X,self.W1)+self.b1\n",
    "        a1=self.activation(z1)\n",
    "        z2=np.dot(a1,self.W2)+self.b2\n",
    "        a2=z2\n",
    "        return a2"
   ]
  },
  {
   "cell_type": "code",
   "execution_count": 8,
   "metadata": {},
   "outputs": [
    {
     "data": {
      "text/plain": [
       "0.8410797175112527"
      ]
     },
     "execution_count": 8,
     "metadata": {},
     "output_type": "execute_result"
    }
   ],
   "source": [
    "#Función a emular\n",
    "\n",
    "# X = 3.14*2*np.random.rand(1000,1)\n",
    "X = np.random.rand(1000,1)\n",
    "    \n",
    "Y = np.abs(np.sin(X))\n",
    "\n",
    "np.max(Y)"
   ]
  },
  {
   "cell_type": "code",
   "execution_count": 10,
   "metadata": {},
   "outputs": [
    {
     "ename": "AttributeError",
     "evalue": "'NeuralNet' object has no attribute 'relu'",
     "output_type": "error",
     "traceback": [
      "\u001b[0;31m---------------------------------------------------------------------------\u001b[0m",
      "\u001b[0;31mAttributeError\u001b[0m                            Traceback (most recent call last)",
      "\u001b[0;32m<ipython-input-10-6cbe1d2ed825>\u001b[0m in \u001b[0;36m<module>\u001b[0;34m\u001b[0m\n\u001b[0;32m----> 1\u001b[0;31m neuralnet = NeuralNet(X, Y, nodos=100, p_split=0.8, learning_rate=1e-6, \n\u001b[0m\u001b[1;32m      2\u001b[0m                            epocas=100, fn_activation='relu')\n",
      "\u001b[0;32m<ipython-input-7-2850bf7ea1dc>\u001b[0m in \u001b[0;36m__init__\u001b[0;34m(self, X, Y, nodos, p_split, learning_rate, epocas, fn_activation)\u001b[0m\n\u001b[1;32m      9\u001b[0m \u001b[0;34m\u001b[0m\u001b[0m\n\u001b[1;32m     10\u001b[0m         \u001b[0;32mif\u001b[0m \u001b[0mfn_activation\u001b[0m \u001b[0;34m==\u001b[0m \u001b[0;34m'relu'\u001b[0m\u001b[0;34m:\u001b[0m\u001b[0;34m\u001b[0m\u001b[0;34m\u001b[0m\u001b[0m\n\u001b[0;32m---> 11\u001b[0;31m             \u001b[0mself\u001b[0m\u001b[0;34m.\u001b[0m\u001b[0mactivation\u001b[0m \u001b[0;34m=\u001b[0m \u001b[0mself\u001b[0m\u001b[0;34m.\u001b[0m\u001b[0mrelu\u001b[0m\u001b[0;34m\u001b[0m\u001b[0;34m\u001b[0m\u001b[0m\n\u001b[0m\u001b[1;32m     12\u001b[0m             \u001b[0mself\u001b[0m\u001b[0;34m.\u001b[0m\u001b[0mdactivation\u001b[0m \u001b[0;34m=\u001b[0m \u001b[0mself\u001b[0m\u001b[0;34m.\u001b[0m\u001b[0mdrelu\u001b[0m\u001b[0;34m\u001b[0m\u001b[0;34m\u001b[0m\u001b[0m\n\u001b[1;32m     13\u001b[0m         \u001b[0;32melif\u001b[0m \u001b[0mfn_activation\u001b[0m \u001b[0;34m==\u001b[0m \u001b[0;34m'sigmoide'\u001b[0m\u001b[0;34m:\u001b[0m\u001b[0;34m\u001b[0m\u001b[0;34m\u001b[0m\u001b[0m\n",
      "\u001b[0;31mAttributeError\u001b[0m: 'NeuralNet' object has no attribute 'relu'"
     ]
    }
   ],
   "source": [
    "neuralnet = NeuralNet(X, Y, nodos=100, p_split=0.8, learning_rate=1e-6, \n",
    "                           epocas=100, fn_activation='relu')"
   ]
  },
  {
   "cell_type": "code",
   "execution_count": null,
   "metadata": {},
   "outputs": [],
   "source": []
  },
  {
   "cell_type": "code",
   "execution_count": 8,
   "metadata": {},
   "outputs": [
    {
     "data": {
      "image/png": "[encoded data removed]",
      "text/plain": [
       "<Figure size 432x288 with 1 Axes>"
      ]
     },
     "metadata": {
      "needs_background": "light"
     },
     "output_type": "display_data"
    }
   ],
   "source": [
    "z = np.linspace(np.min(X), np.max(X), 60).reshape(-1, 1)\n",
    "\n",
    "plt.plot(z, evaluate(z, W1, b1, W2, b2, relu),label='Red neuronal')\n",
    "plt.plot(z, np.abs(np.sin(z)), label='$f(x)=sin(x)$')\n",
    "plt.legend()\n",
    "plt.grid()"
   ]
  },
  {
   "cell_type": "code",
   "execution_count": null,
   "metadata": {},
   "outputs": [],
   "source": []
  },
  {
   "cell_type": "code",
   "execution_count": null,
   "metadata": {},
   "outputs": [],
   "source": []
  },
  {
   "cell_type": "code",
   "execution_count": null,
   "metadata": {},
   "outputs": [],
   "source": []
  }
 ],
 "metadata": {
  "kernelspec": {
   "display_name": "Python 3",
   "language": "python",
   "name": "python3"
  },
  "language_info": {
   "codemirror_mode": {
    "name": "ipython",
    "version": 3
   },
   "file_extension": ".py",
   "mimetype": "text/x-python",
   "name": "python",
   "nbconvert_exporter": "python",
   "pygments_lexer": "ipython3",
   "version": "3.8.5"
  }
 },
 "nbformat": 4,
 "nbformat_minor": 4
}
